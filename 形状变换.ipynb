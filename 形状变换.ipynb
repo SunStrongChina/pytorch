{
 "cells": [
  {
   "cell_type": "code",
   "execution_count": 73,
   "id": "c476c3bb-501f-4e70-885e-847880e09afa",
   "metadata": {},
   "outputs": [
    {
     "name": "stdout",
     "output_type": "stream",
     "text": [
      "torch.Size([15])\n"
     ]
    }
   ],
   "source": [
    "#############关于view，reshape，resize_\n",
    "import torch\n",
    "import torch.nn as nn\n",
    "rr = torch.arange(1,16)\n",
    "print(rr.shape)                              #torch.Size([15])         "
   ]
  },
  {
   "cell_type": "code",
   "execution_count": 67,
   "id": "2ad334b0-b0c9-4056-bb93-63300be81aed",
   "metadata": {},
   "outputs": [
    {
     "name": "stdout",
     "output_type": "stream",
     "text": [
      "torch.Size([5, 3])\n",
      "False\n",
      "True\n",
      "True\n",
      "True\n",
      "tensor(True)\n"
     ]
    }
   ],
   "source": [
    "###############view函数只适用于形状相同的变化,变化前后共享数据，但不共享内存\n",
    "rr1 = rr.view(5,3)\n",
    "print(rr1.shape)                                                                            #torch.Size([5, 3])\n",
    "############不共享内存\n",
    "print(id(rr1) == id(rr))                                                                    #False\n",
    "###########共享数据,理解为单个scalar从同一片内存区去取\n",
    "print(id(rr1[0,0])==id(rr[0]))                                                              #True\n",
    "print(id(rr1.untyped_storage()) == id(rr.untyped_storage()))                                #True\n",
    "print(id(rr1.untyped_storage()[0]) == id(rr.untyped_storage()[0]))                          #True\n",
    "# rr2 = rr.view(5,2)#########形状不同会报错"
   ]
  },
  {
   "cell_type": "code",
   "execution_count": 68,
   "id": "a68a2440-5a9d-4671-b93c-5fd3c12fc0c7",
   "metadata": {},
   "outputs": [
    {
     "name": "stdout",
     "output_type": "stream",
     "text": [
      "False\n",
      "True\n"
     ]
    }
   ],
   "source": [
    "rr3 = rr.reshape(5,3)\n",
    "print(id(rr1) == id(rr3) == id(rr))\n",
    "#########因为rr为连续存储的数据，所以这儿内存地址一致\n",
    "print(id(rr1.untyped_storage()) == id(rr3.untyped_storage()) == id(rr.untyped_storage()))"
   ]
  },
  {
   "cell_type": "code",
   "execution_count": 69,
   "id": "217f70fc-c48a-408a-8414-cc38ab4cd855",
   "metadata": {},
   "outputs": [
    {
     "name": "stdout",
     "output_type": "stream",
     "text": [
      "tensor([[ 3,  2,  3],\n",
      "        [ 4,  5,  6],\n",
      "        [ 7,  8,  9],\n",
      "        [10, 11, 12],\n",
      "        [13, 14, 15]])\n",
      "tensor([[ 3,  2,  3],\n",
      "        [ 4,  5,  6],\n",
      "        [ 7,  8,  9],\n",
      "        [10, 11, 12],\n",
      "        [13, 14, 15]])\n",
      "tensor([ 3,  2,  3,  4,  5,  6,  7,  8,  9, 10, 11, 12, 13, 14, 15])\n"
     ]
    }
   ],
   "source": [
    "###################共享数据的特点，基础元素变化都变化了\n",
    "rr[0] = 3\n",
    "print(rr1)\n",
    "print(rr3)\n",
    "print(rr)"
   ]
  },
  {
   "cell_type": "code",
   "execution_count": 72,
   "id": "7446389c-819a-468a-a5fd-eb236c7b9c59",
   "metadata": {},
   "outputs": [
    {
     "name": "stdout",
     "output_type": "stream",
     "text": [
      "False\n"
     ]
    }
   ],
   "source": [
    "#######矩阵转置就会让内存变得不连续，因此无法使用view进行形状变换\n",
    "#t1.T.view(3,10)\n",
    "###################reshape可以使用，但发生了拷贝,此时数据区地址不一致了\n",
    "t2 = t1.T.reshape(3,10)\n",
    "print(id(t1.untyped_storage()) == id(t2.untyped_storage()))"
   ]
  },
  {
   "cell_type": "code",
   "execution_count": 55,
   "id": "f5bfa13a-c784-4f09-8c29-e03060c784a5",
   "metadata": {},
   "outputs": [
    {
     "name": "stdout",
     "output_type": "stream",
     "text": [
      "tensor([[ 8.1499e-01,  4.8655e-01, -1.8174e+00,  2.5629e-03,  5.5115e-01,\n",
      "          1.0890e-01,  2.2603e+00, -7.9960e-01, -4.0538e-01, -6.8531e-01],\n",
      "        [-5.3938e-01,  1.0152e-01, -8.1363e-01, -6.6595e-02,  1.0276e+00,\n",
      "         -1.7276e+00,  5.8043e-01,  1.8335e+00, -1.5041e+00, -9.7158e-01],\n",
      "        [ 9.9915e-01,  5.4939e-01, -3.4991e-01, -2.9098e+00,  1.4687e+00,\n",
      "         -4.6404e-01, -4.0539e-01,  1.5796e+00,  2.0464e-01,  1.2823e-01]])\n",
      "True\n",
      "True\n"
     ]
    },
    {
     "data": {
      "text/plain": [
       "tensor([[ 8.1499e-01,  4.8655e-01, -1.8174e+00,  2.5629e-03,  5.5115e-01,\n",
       "          1.0890e-01],\n",
       "        [ 2.2603e+00, -7.9960e-01, -4.0538e-01, -6.8531e-01, -5.3938e-01,\n",
       "          1.0152e-01],\n",
       "        [-8.1363e-01, -6.6595e-02,  1.0276e+00, -1.7276e+00,  5.8043e-01,\n",
       "          1.8335e+00],\n",
       "        [-1.5041e+00, -9.7158e-01,  9.9915e-01,  5.4939e-01, -3.4991e-01,\n",
       "         -2.9098e+00],\n",
       "        [ 1.4687e+00, -4.6404e-01, -4.0539e-01,  1.5796e+00,  2.0464e-01,\n",
       "          1.2823e-01],\n",
       "        [ 0.0000e+00,  0.0000e+00,  0.0000e+00,  0.0000e+00,  0.0000e+00,\n",
       "          0.0000e+00]])"
      ]
     },
     "execution_count": 55,
     "metadata": {},
     "output_type": "execute_result"
    }
   ],
   "source": [
    "################resize\n",
    "m5 = torch.randn(5,6)\n",
    "m3 = m5.resize_(3,9)\n",
    "m4 = m5.resize_(3,10)\n",
    "print(m3)\n",
    "print(id(m5.untyped_storage()) == id(m3.untyped_storage()))\n",
    "print(id(m5.untyped_storage()) == id(m4.untyped_storage()))\n",
    "\n",
    "##############转置会让打乱连续的数据存储，非连续存储也能调用\n",
    "m5.T.resize_(6,6)"
   ]
  }
 ],
 "metadata": {
  "kernelspec": {
   "display_name": "cs224n",
   "language": "python",
   "name": "cs224n"
  },
  "language_info": {
   "codemirror_mode": {
    "name": "ipython",
    "version": 3
   },
   "file_extension": ".py",
   "mimetype": "text/x-python",
   "name": "python",
   "nbconvert_exporter": "python",
   "pygments_lexer": "ipython3",
   "version": "3.11.7"
  }
 },
 "nbformat": 4,
 "nbformat_minor": 5
}
